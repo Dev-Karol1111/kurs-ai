{
  "nbformat": 4,
  "nbformat_minor": 0,
  "metadata": {
    "colab": {
      "provenance": [],
      "authorship_tag": "ABX9TyMeOLbLrVoMyTZDwnlwZB9v",
      "include_colab_link": true
    },
    "kernelspec": {
      "name": "python3",
      "display_name": "Python 3"
    },
    "language_info": {
      "name": "python"
    }
  },
  "cells": [
    {
      "cell_type": "markdown",
      "metadata": {
        "id": "view-in-github",
        "colab_type": "text"
      },
      "source": [
        "<a href=\"https://colab.research.google.com/github/Dev-Karol1111/kurs-ai/blob/main/wprowadzenie_do_%C5%9Brodowiska.ipynb\" target=\"_parent\"><img src=\"https://colab.research.google.com/assets/colab-badge.svg\" alt=\"Open In Colab\"/></a>"
      ]
    },
    {
      "cell_type": "markdown",
      "source": [
        "# **Podstawowe elementy języka python**\n",
        "\n",
        "*W tym rozdziale przedstawimy podstawowe elementy\n",
        "składni języka Python. Poniżej dodajemy link do strony Pythona*\n",
        "\n",
        "[Python](https://www.python.org)\n",
        "\n",
        "##  Omawiane elementy\n",
        "\n",
        "1. Zmienne\n",
        "---\n",
        "2. Listy\n",
        "---\n",
        "3. Pętle\n",
        "---\n",
        "4. Słowniki i krotki\n",
        "---\n",
        "5. Instrukcje warunkowe\n",
        "---\n",
        "6. Funkcje\n",
        "---\n",
        "7. Obsługa plików\n",
        "---\n",
        "8. Obsługa wyjątków\n"
      ],
      "metadata": {
        "id": "xn854d39YI3t"
      }
    }
  ]
}